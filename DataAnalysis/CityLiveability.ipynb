{
 "cells": [
  {
   "cell_type": "code",
   "execution_count": 15,
   "id": "551a2847",
   "metadata": {},
   "outputs": [],
   "source": [
    "import pandas as pd\n",
    "from importnb import  Notebook\n",
    "\n",
    "with Notebook():\n",
    "  import EnvironmentQuality\n",
    "  import MobilityAndTransport\n",
    "  import PublicPerception\n",
    "  import CitySatisfaction\n",
    "  \n",
    "df_environment = EnvironmentQuality.df_environment\n",
    "df_transport = MobilityAndTransport.df_transport\n",
    "df_perception = PublicPerception.df_public\n",
    "df_city_satisfaction = CitySatisfaction.df_city_satisfaction\n"
   ]
  },
  {
   "cell_type": "code",
   "execution_count": 16,
   "id": "f467fc92",
   "metadata": {},
   "outputs": [],
   "source": [
    "# Resort by City to ensure rows are alligned\n",
    "df_environment = df_environment.sort_values(by='City', ignore_index=True)\n",
    "df_transport = df_transport.sort_values(by='City', ignore_index=True)\n",
    "df_perception = df_perception.sort_values(by='City', ignore_index=True)\n",
    "df_city_satisfaction = df_city_satisfaction.sort_values(by='City', ignore_index=True)"
   ]
  },
  {
   "cell_type": "code",
   "execution_count": 17,
   "id": "63cd57fa",
   "metadata": {},
   "outputs": [
    {
     "name": "stdout",
     "output_type": "stream",
     "text": [
      "          City  Composite Index\n",
      "0    Stockholm         0.431632\n",
      "1     Helsinki         0.373403\n",
      "2       Dublin         0.305219\n",
      "3      Tallinn         0.305126\n",
      "4      Vilnius         0.284363\n",
      "5   Copenhagen         0.262166\n",
      "6       Zagreb         0.253401\n",
      "7   Luxembourg         0.253215\n",
      "8    Ljubljana         0.251776\n",
      "9       Prague         0.235762\n",
      "10      Berlin         0.222005\n",
      "11      Vienna         0.211200\n",
      "12   Amsterdam         0.209910\n",
      "13  Bratislava         0.206450\n",
      "14      Lisbon         0.185508\n",
      "15        Riga         0.168260\n",
      "16    Brussels         0.166654\n",
      "17    Budapest         0.160839\n",
      "18      Madrid         0.134556\n",
      "19     Nicosia         0.131531\n",
      "20      Warsaw         0.123120\n",
      "21   Bucharest         0.122914\n",
      "22       Paris         0.119779\n",
      "23    Valletta         0.106488\n",
      "24        Rome         0.099521\n",
      "25       Sofia         0.078167\n",
      "26      Athens        -0.002427\n"
     ]
    }
   ],
   "source": [
    "df_composite = df_environment[['City', 'Environment Index']].copy()\n",
    "df_composite['Transport Index'] = df_transport['Transport Index'].copy()\n",
    "df_composite['Perception Index'] = df_perception['Perception Index'].copy()\n",
    "df_composite['Satisfaction Index'] = df_city_satisfaction['Satisfied City'].copy()\n",
    "\n",
    "# Wieghts \n",
    "# 35 for environment and transport\n",
    "# 20 for perception\n",
    "# 10 for overall city satisfaction\n",
    "weights = [0.35, 0.35, 0.2, 0.1]\n",
    "df_composite['Composite Index'] = df_composite[['Environment Index', 'Transport Index', 'Perception Index', 'Satisfaction Index']].dot(weights)\n",
    "df_composite = df_composite.sort_values(by='Composite Index', ascending=False, ignore_index=True)\n",
    "print(df_composite[['City', 'Composite Index']])"
   ]
  }
 ],
 "metadata": {
  "kernelspec": {
   "display_name": "Python 3",
   "language": "python",
   "name": "python3"
  },
  "language_info": {
   "codemirror_mode": {
    "name": "ipython",
    "version": 3
   },
   "file_extension": ".py",
   "mimetype": "text/x-python",
   "name": "python",
   "nbconvert_exporter": "python",
   "pygments_lexer": "ipython3",
   "version": "3.13.3"
  }
 },
 "nbformat": 4,
 "nbformat_minor": 5
}
