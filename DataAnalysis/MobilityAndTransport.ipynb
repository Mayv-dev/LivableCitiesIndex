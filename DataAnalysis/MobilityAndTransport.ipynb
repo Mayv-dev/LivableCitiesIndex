{
 "cells": [
  {
   "cell_type": "code",
   "execution_count": 43,
   "id": "8ee70a41",
   "metadata": {},
   "outputs": [],
   "source": [
    "import pandas as pd"
   ]
  },
  {
   "cell_type": "code",
   "execution_count": 44,
   "id": "6174a67b",
   "metadata": {},
   "outputs": [
    {
     "name": "stdout",
     "output_type": "stream",
     "text": [
      "46\n"
     ]
    }
   ],
   "source": [
    "# Only using capital cities\n",
    "capitals = {\n",
    "  'Vienna','Wien',\n",
    "  'Brussels','Bruxelles / Brussel',\n",
    "  'Sofia',\n",
    "  'Zagreb',\n",
    "  'Nicosia',\n",
    "  'Prague','Praha',\n",
    "  'Copenhagen (metropolitan area)','København','Copenhagen',\n",
    "  'Tallin','Tallinn',\n",
    "  'Helsinki (metropolitan area)','Helsinki / Helsingfors','Helsinki',\n",
    "  'Paris (metropolitan area)','Paris',\n",
    "  'Berlin',\n",
    "  'Athens (metropolitan area)','Athens',\n",
    "  'Budapest',\n",
    "  'Dublin (metropolitan area)','Dublin',\n",
    "  'Rome','Roma',\n",
    "  'Riga',\n",
    "  'Vilnius',\n",
    "  'Luxembourg',\n",
    "  'Valletta',\n",
    "  'Amsterdam','Greater Amsterdam',\n",
    "  'Warsaw','Warszawa',\n",
    "  'Lisbon (metropolitan area)','Lisboa','Lisbon',\n",
    "  'Bucarest','Bucharest',\n",
    "  'Bratislava',\n",
    "  'Ljubljana',\n",
    "  'Madrid (metropolitan area)','Madrid',\n",
    "  'Stockholm (metropolitan area)','Stockholm',\n",
    "}\n",
    "print(len(capitals))"
   ]
  },
  {
   "cell_type": "code",
   "execution_count": 45,
   "id": "9663576c",
   "metadata": {},
   "outputs": [
    {
     "name": "stdout",
     "output_type": "stream",
     "text": [
      "(27,)\n"
     ]
    }
   ],
   "source": [
    "# Greenpeace Public Transport Affordability score\n",
    "df = pd.read_excel(io='../DataSources/GreenPeacePublicTransportAffordability.xlsx', sheet_name=\"Sheet1\")\n",
    "\n",
    "df_capitals = df[df['City'].isin(capitals)]\n",
    "print(df_capitals['City'].shape)"
   ]
  }
 ],
 "metadata": {
  "kernelspec": {
   "display_name": "Python 3",
   "language": "python",
   "name": "python3"
  },
  "language_info": {
   "codemirror_mode": {
    "name": "ipython",
    "version": 3
   },
   "file_extension": ".py",
   "mimetype": "text/x-python",
   "name": "python",
   "nbconvert_exporter": "python",
   "pygments_lexer": "ipython3",
   "version": "3.13.3"
  }
 },
 "nbformat": 4,
 "nbformat_minor": 5
}
