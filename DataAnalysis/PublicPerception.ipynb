{
 "cells": [
  {
   "cell_type": "code",
   "execution_count": null,
   "id": "9b4e4a84",
   "metadata": {},
   "outputs": [],
   "source": [
    "rows_required = {\n",
    "  # Public transport satisfaction\n",
    "  35,36,37,38,\n",
    "  # Green spaces satisfaction\n",
    "  75,76,77,78,\n",
    "  # Air quality satisfaction\n",
    "  105,106,107,108,\n",
    "  # Noise level satisfaction\n",
    "  115,116,117,118,\n",
    "  # City satisfaction\n",
    "  135,136,137,138\n",
    "}"
   ]
  }
 ],
 "metadata": {
  "language_info": {
   "name": "python"
  }
 },
 "nbformat": 4,
 "nbformat_minor": 5
}
