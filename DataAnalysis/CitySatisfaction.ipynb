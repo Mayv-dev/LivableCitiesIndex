{
 "cells": [
  {
   "cell_type": "code",
   "execution_count": 5,
   "id": "0d4aa2a8",
   "metadata": {},
   "outputs": [],
   "source": [
    "import pandas as pd\n",
    "from sklearn.decomposition import PCA\n",
    "import numpy as np\n",
    "from importnb import  Notebook\n",
    "\n",
    "with Notebook():\n",
    "  import MultivariateAnalysis\n",
    "\n",
    "df = MultivariateAnalysis.df"
   ]
  },
  {
   "cell_type": "code",
   "execution_count": 6,
   "id": "2fd8edde",
   "metadata": {},
   "outputs": [
    {
     "name": "stdout",
     "output_type": "stream",
     "text": [
      "          City  Satisfied City\n",
      "0   Copenhagen        1.000000\n",
      "1    Stockholm        0.987349\n",
      "2   Luxembourg        0.933945\n",
      "3       Prague        0.911064\n",
      "4      Vilnius        0.905571\n",
      "5      Tallinn        0.870084\n",
      "6    Amsterdam        0.846424\n",
      "7     Helsinki        0.843423\n",
      "8   Bratislava        0.838225\n",
      "9    Ljubljana        0.827970\n",
      "10      Warsaw        0.818119\n",
      "11      Dublin        0.817637\n",
      "12      Lisbon        0.795903\n",
      "13      Vienna        0.747628\n",
      "14    Brussels        0.715166\n",
      "15     Nicosia        0.704957\n",
      "16      Zagreb        0.700355\n",
      "17      Berlin        0.697651\n",
      "18    Budapest        0.610021\n",
      "19   Bucharest        0.570379\n",
      "20    Valletta        0.548810\n",
      "21      Madrid        0.536387\n",
      "22       Sofia        0.533905\n",
      "23        Riga        0.498293\n",
      "24       Paris        0.488781\n",
      "25        Rome        0.203110\n",
      "26      Athens        0.000000\n"
     ]
    }
   ],
   "source": [
    "df_city_satisfaction = df[['City', 'Satisfied City']]\n",
    "df_city_satisfaction = df_city_satisfaction.sort_values(by='Satisfied City', ascending=False, ignore_index=True)\n",
    "print(df_city_satisfaction)"
   ]
  }
 ],
 "metadata": {
  "kernelspec": {
   "display_name": "Python 3",
   "language": "python",
   "name": "python3"
  },
  "language_info": {
   "codemirror_mode": {
    "name": "ipython",
    "version": 3
   },
   "file_extension": ".py",
   "mimetype": "text/x-python",
   "name": "python",
   "nbconvert_exporter": "python",
   "pygments_lexer": "ipython3",
   "version": "3.13.3"
  }
 },
 "nbformat": 4,
 "nbformat_minor": 5
}
