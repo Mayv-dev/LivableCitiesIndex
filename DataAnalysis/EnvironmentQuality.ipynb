{
 "cells": [
  {
   "cell_type": "markdown",
   "id": "095cc6e6",
   "metadata": {},
   "source": [
    "Extract all data planned to be used for the environment quality index."
   ]
  },
  {
   "cell_type": "code",
   "execution_count": 183,
   "id": "77172734",
   "metadata": {},
   "outputs": [],
   "source": [
    "import pandas as pd"
   ]
  },
  {
   "cell_type": "code",
   "execution_count": null,
   "id": "e99e6aae",
   "metadata": {},
   "outputs": [
    {
     "name": "stdout",
     "output_type": "stream",
     "text": [
      "39\n"
     ]
    }
   ],
   "source": [
    "# Only using capital cities\n",
    "capitals = {\n",
    "  'Vienna','Wien',\n",
    "  'Brussels','Bruxelles / Brussel',\n",
    "  'Sofia',\n",
    "  'Zagreb',\n",
    "  'Nicosia',\n",
    "  'Prague','Praha',\n",
    "  'Copenhagen (metropolitan area)','København',\n",
    "  'Tallin','Tallinn',\n",
    "  'Helsinki (metropolitan area)','Helsinki / Helsingfors',\n",
    "  'Paris (metropolitan area)',\n",
    "  'Berlin',\n",
    "  'Athens (metropolitan area)',\n",
    "  'Budapest',\n",
    "  'Dublin (metropolitan area)',\n",
    "  'Rome','Roma',\n",
    "  'Riga',\n",
    "  'Vilnius',\n",
    "  'Luxembourg',\n",
    "  'Valletta',\n",
    "  'Amsterdam','Greater Amsterdam',\n",
    "  'Warsaw','Warszawa',\n",
    "  'Lisbon (metropolitan area)','Lisboa',\n",
    "  'Bucarest',\n",
    "  'Bratislava',\n",
    "  'Ljubljana',\n",
    "  'Madrid (metropolitan area)','Madrid',\n",
    "  'Stockholm (metropolitan area)','Stockholm',\n",
    "}\n",
    "print(len(capitals))"
   ]
  },
  {
   "cell_type": "code",
   "execution_count": 185,
   "id": "16dc6da5",
   "metadata": {},
   "outputs": [
    {
     "name": "stdout",
     "output_type": "stream",
     "text": [
      "(27,)\n"
     ]
    }
   ],
   "source": [
    "# Air Pollution\n",
    "df = pd.read_excel(io='../DataSources/ISGlobal-Ranking-table-AP-GS-Noise-23032022.xlsx', sheet_name='ISGlobalCityRanking_AirPollutio')\n",
    "\n",
    "df_capitals = df[df['City'].isin(capitals)]\n",
    "print(df_capitals['City'].shape)"
   ]
  },
  {
   "cell_type": "code",
   "execution_count": 186,
   "id": "0d7ae024",
   "metadata": {},
   "outputs": [
    {
     "name": "stdout",
     "output_type": "stream",
     "text": [
      "(22,)\n"
     ]
    }
   ],
   "source": [
    "\n",
    "# Noise pollution\n",
    "df = pd.read_excel(io='../DataSources/ISGlobal-Ranking-table-AP-GS-Noise-23032022.xlsx', sheet_name='ISGlobalCityRanking_Noise')\n",
    "df['City'].str.strip()\n",
    "\n",
    "df_capitals = df[df['City'].isin(capitals)]\n",
    "print(df_capitals['City'].shape)"
   ]
  },
  {
   "cell_type": "markdown",
   "id": "a0118c97",
   "metadata": {},
   "source": [
    "Missing from Noise pollution:\n",
    "- Nicosia, Cyprus\n",
    "- Bucarest, Romania\n",
    "- Athens, Greece\n",
    "- Zagreb. Croatia\n",
    "- Bratislava, Slovakia"
   ]
  },
  {
   "cell_type": "code",
   "execution_count": null,
   "id": "3c66a163",
   "metadata": {},
   "outputs": [],
   "source": [
    "missing = {\n",
    "  'Nicosia',\n",
    "  'Bucarest',\n",
    "  'Athens (metropolitan area)',\n",
    "  'Zagreb',\n",
    "  'Bratislava',\n",
    "}"
   ]
  },
  {
   "cell_type": "code",
   "execution_count": 187,
   "id": "35deeaaf",
   "metadata": {},
   "outputs": [
    {
     "name": "stdout",
     "output_type": "stream",
     "text": [
      "(27,)\n"
     ]
    }
   ],
   "source": [
    "# Green Spaces\n",
    "df = pd.read_excel(io='../DataSources/ISGlobal-Ranking-table-AP-GS-Noise-23032022.xlsx', sheet_name='ISGlobalCityRanking_GreenSpace')\n",
    "\n",
    "df_capitals = df[df['City'].isin(capitals)]\n",
    "print(df_capitals['City'].shape)"
   ]
  }
 ],
 "metadata": {
  "kernelspec": {
   "display_name": "Python 3",
   "language": "python",
   "name": "python3"
  },
  "language_info": {
   "codemirror_mode": {
    "name": "ipython",
    "version": 3
   },
   "file_extension": ".py",
   "mimetype": "text/x-python",
   "name": "python",
   "nbconvert_exporter": "python",
   "pygments_lexer": "ipython3",
   "version": "3.13.3"
  }
 },
 "nbformat": 4,
 "nbformat_minor": 5
}
